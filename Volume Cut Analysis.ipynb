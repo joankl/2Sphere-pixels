{
 "cells": [
  {
   "cell_type": "markdown",
   "id": "2cedf3f8-454e-4498-992c-4f3f4c67d4b5",
   "metadata": {},
   "source": [
    "# Cortes en Volumen para simulaciones de random direction y random vertex"
   ]
  },
  {
   "cell_type": "code",
   "execution_count": 1,
   "id": "103cadb9-abbc-4823-8ae0-04d052e6e71f",
   "metadata": {},
   "outputs": [],
   "source": [
    "import uproot\n",
    "import numpy as np\n",
    "\n",
    "import matplotlib\n",
    "import matplotlib.pyplot as plt\n",
    "from matplotlib import cm\n",
    "\n",
    "import seaborn as sn\n",
    "\n",
    "import torch"
   ]
  },
  {
   "cell_type": "markdown",
   "id": "0088125a-1d34-48a3-93cb-f9c8a6f79032",
   "metadata": {},
   "source": [
    "# 1 - Extracting Data"
   ]
  },
  {
   "cell_type": "code",
   "execution_count": 2,
   "id": "cdd4b176-a553-49df-b772-f1a174e3e74c",
   "metadata": {},
   "outputs": [
    {
     "data": {
      "text/plain": [
       "['T;6', 'T;5', 'pmt;2', 'pmt;1']"
      ]
     },
     "execution_count": 2,
     "metadata": {},
     "output_type": "execute_result"
    }
   ],
   "source": [
    "file = uproot.open(\"/snoplus simulations/electron bulk/random point/random dir/Low Statistic/simu_Analysis_elec_10MeV.root\")\n",
    "file.keys()"
   ]
  },
  {
   "cell_type": "code",
   "execution_count": 3,
   "id": "279172b4-d324-40cc-aa96-f1e1a75a367b",
   "metadata": {},
   "outputs": [
    {
     "data": {
      "text/plain": [
       "['evtid',\n",
       " 'mcID',\n",
       " 'energy',\n",
       " 'mc_position',\n",
       " 'mc_momentum',\n",
       " 'position',\n",
       " 'momentum',\n",
       " 'hit_pmtid',\n",
       " 'hit_pmttime',\n",
       " 'hit_residual',\n",
       " 'hit_type']"
      ]
     },
     "execution_count": 3,
     "metadata": {},
     "output_type": "execute_result"
    }
   ],
   "source": [
    "data1 = file['T;6']\n",
    "data1.keys()"
   ]
  },
  {
   "cell_type": "code",
   "execution_count": 4,
   "id": "dffb888d-7471-4531-b9a4-2c4cec550b2c",
   "metadata": {},
   "outputs": [
    {
     "data": {
      "text/plain": [
       "['pmt_id', 'pmt_pos_xyz', 'pmt_pos_sph', 'pmt_type']"
      ]
     },
     "execution_count": 4,
     "metadata": {},
     "output_type": "execute_result"
    }
   ],
   "source": [
    "pmt_info = file['pmt;1']\n",
    "pmt_info.keys()"
   ]
  },
  {
   "cell_type": "markdown",
   "id": "aafc2ba1-2115-4a5b-b70e-e67372e96569",
   "metadata": {},
   "source": [
    "## 1.1 - EV info"
   ]
  },
  {
   "cell_type": "code",
   "execution_count": 5,
   "id": "a336885c-acf0-42ec-a67d-4807bb9c243b",
   "metadata": {},
   "outputs": [],
   "source": [
    "evtid = np.array(data1['evtid'])\n",
    "mcID = np.array(data1['mcID'])\n",
    "mc_position = np.array(data1['mc_position'])  # -> Position Generation\n",
    "mc_momentum = np.array(data1['mc_momentum'])  # -> IMPORTANT: Direction of simulated event\n",
    "position = np.array(data1['position'])        \n",
    "hit_pmtid = np.array(data1['hit_pmtid'])\n",
    "hit_pmttime = np.array(data1['hit_pmttime'])\n",
    "time_residual = np.array(data1['hit_residual'])\n",
    "hit_type = np.array(data1['hit_type'])"
   ]
  },
  {
   "cell_type": "markdown",
   "id": "d3c8df11-5425-4d00-8e5c-ded296a02d3f",
   "metadata": {},
   "source": [
    "## 1.2 - PMT info"
   ]
  },
  {
   "cell_type": "code",
   "execution_count": 6,
   "id": "8f99a02f-14db-4c4d-a14e-8816a9f43e3f",
   "metadata": {},
   "outputs": [],
   "source": [
    "pmt_id = np.array(pmt_info['pmt_id'])\n",
    "pmt_pos_xyz = np.array(pmt_info['pmt_pos_xyz'])\n",
    "pmt_pos_sph = np.array(pmt_info['pmt_pos_sph'])\n",
    "pmt_type = np.array(pmt_info['pmt_type'])"
   ]
  },
  {
   "cell_type": "markdown",
   "id": "8adce8e1-adc3-440c-89d2-4568bed9ef63",
   "metadata": {},
   "source": [
    "# 2 - Extract Valid Data"
   ]
  },
  {
   "cell_type": "markdown",
   "id": "0192f1e7-6d4b-4e4d-b34c-d60946a104ed",
   "metadata": {},
   "source": [
    "## 2.1 - Extract  valid PMT id"
   ]
  },
  {
   "cell_type": "code",
   "execution_count": 7,
   "id": "323a3d3d-2019-4bf5-a347-0493615baf04",
   "metadata": {},
   "outputs": [
    {
     "data": {
      "text/plain": [
       "array([       0,        1,        2, ..., 11158432, 11158433, 11158434],\n",
       "      dtype=int64)"
      ]
     },
     "execution_count": 7,
     "metadata": {},
     "output_type": "execute_result"
    }
   ],
   "source": [
    "## Numpy proofs to validate pytorch tools\n",
    "\n",
    "valid_pmt_id = np.where(pmt_type == 1)[0]   # PMT valid ID match with index of where pmt_type=1\n",
    "\n",
    "valid_id_info_ev_i = np.where(np.in1d(hit_pmtid, valid_pmt_id))[0]\n",
    "valid_id_info_ev_i"
   ]
  },
  {
   "cell_type": "markdown",
   "id": "17e07911-ffa3-4de3-8a60-92c7a679f206",
   "metadata": {},
   "source": [
    "## 2.2 - Extract valid info of EV\n"
   ]
  },
  {
   "cell_type": "code",
   "execution_count": 8,
   "id": "709c72a1-075e-4c82-92ce-d1d44ebb9151",
   "metadata": {
    "scrolled": true
   },
   "outputs": [],
   "source": [
    "# CONCATENATE DATA IN NUMPY ARRAY IS FASTER!\n",
    "valid_pmt_id = np.where(pmt_type == 1)[0]   #pmt valid ID match with index of where pmt_type=1\n",
    "valid_pmt_id_ev = []\n",
    "\n",
    "# With valid index data extract valid data\n",
    "\n",
    "data_portion = 1   # percentage of data\n",
    "lim_data = round(len(valid_id_info_ev_i)*data_portion)\n",
    "\n",
    "multi_time_residual = []\n",
    "multi_pmt_id_hit = []\n",
    "multi_mc_position = []\n",
    "multi_mc_momentum = []   \n",
    "multi_xyz_hit = []\n",
    "\n",
    "for valid_i in valid_id_info_ev_i[0:lim_data]:\n",
    "    multi_time_residual.append(time_residual[valid_i])\n",
    "    multi_mc_position.append(mc_position[valid_i])\n",
    "    multi_mc_momentum.append(mc_momentum[valid_i])\n",
    "    multi_pmt_id_hit.append(hit_pmtid[valid_i])\n",
    "    \n",
    "multi_time_residual = np.array(multi_time_residual)   #Has to be an array to use numpoy tools bellow!\n",
    "\n",
    "#extract xyz_hit from pmt_id_hit\n",
    "for id_i in multi_pmt_id_hit:\n",
    "    multi_xyz_hit.append(pmt_pos_xyz[id_i])"
   ]
  },
  {
   "cell_type": "markdown",
   "id": "a553efea-1254-4cd7-afcc-f40cbbb28543",
   "metadata": {},
   "source": [
    "# 3 - Cortes en Volumen\n",
    "\n",
    "Usar radio de mc_position para seleccionar eventos"
   ]
  },
  {
   "cell_type": "markdown",
   "id": "4e23678a-2a67-4a62-ad81-562869f6fb91",
   "metadata": {},
   "source": [
    "## 3.1 - Función para calcular radio de mc_position"
   ]
  },
  {
   "cell_type": "code",
   "execution_count": 9,
   "id": "72aa9075-b9bf-451c-86d1-f749fa4df5b7",
   "metadata": {},
   "outputs": [],
   "source": [
    "def magnitude(vector): \n",
    "    norm = []\n",
    "    for vec in vector:\n",
    "    \tnorm.append(np.linalg.norm(vec))\n",
    "\n",
    "    return np.array(norm)"
   ]
  },
  {
   "cell_type": "code",
   "execution_count": 10,
   "id": "640a5776-a68c-4473-8a26-947d657860f0",
   "metadata": {
    "scrolled": true
   },
   "outputs": [],
   "source": [
    "mc_position_norm = magnitude(multi_mc_position)"
   ]
  },
  {
   "cell_type": "code",
   "execution_count": 11,
   "id": "5220eddb-e054-4d5f-9665-d2774460501a",
   "metadata": {
    "scrolled": true
   },
   "outputs": [
    {
     "data": {
      "text/plain": [
       "array([2706.35218464, 2706.35218464, 2706.35218464, ..., 5946.13670468,\n",
       "       5946.13670468, 5946.13670468])"
      ]
     },
     "execution_count": 11,
     "metadata": {},
     "output_type": "execute_result"
    }
   ],
   "source": [
    "mc_position_norm"
   ]
  },
  {
   "cell_type": "markdown",
   "id": "b2ef06dc-11f8-4632-ba6e-02a5608e9a75",
   "metadata": {},
   "source": [
    "## 3.2 - Corte en Radio"
   ]
  },
  {
   "cell_type": "code",
   "execution_count": 84,
   "id": "1e378a80-158f-4c39-bbc3-715ca1d66294",
   "metadata": {
    "scrolled": true
   },
   "outputs": [],
   "source": [
    "#Radi selection\n",
    "max_radi = 5500.0\n",
    "radi_condition = (mc_position_norm < max_radi)\n",
    "index_cut_radi = np.where(radi_condition)[0]\n",
    "\n",
    "#extract variables\n",
    "\n",
    "multi_time_res_radi_cut = []\n",
    "multi_mc_momentum_radi_cut = []\n",
    "multi_pmt_id_hit_radi_cut = []\n",
    "multi_xyz_hit_radi_cut = []\n",
    "\n",
    "for j_dx in index_cut_radi:\n",
    "    multi_time_res_radi_cut.append(multi_time_residual[j_dx])\n",
    "    multi_mc_momentum_radi_cut.append(multi_mc_momentum[j_dx])\n",
    "    multi_pmt_id_hit_radi_cut.append(multi_pmt_id_hit[j_dx])   \n",
    "multi_time_res_radi_cut = np.array(multi_time_res_radi_cut)\n",
    "\n",
    "for id_i in multi_pmt_id_hit_radi_cut:\n",
    "    multi_xyz_hit_radi_cut.append(pmt_pos_xyz[id_i])"
   ]
  },
  {
   "cell_type": "markdown",
   "id": "9ae5eeb9-0834-41c6-b3b8-8b804f938b8d",
   "metadata": {},
   "source": [
    "## 3.3 - Calculo de Observable $cos(α)$"
   ]
  },
  {
   "cell_type": "code",
   "execution_count": 82,
   "id": "7d700343-ea1a-4a49-a9ac-7a5e4f1c266e",
   "metadata": {},
   "outputs": [],
   "source": [
    "multi_cos_angle = []\n",
    "N = np.shape(multi_xyz_hit_radi_cut)[0]\n",
    "\n",
    "for k in range(N):\n",
    "    cos_val = np.dot(multi_xyz_hit_radi_cut[k], multi_mc_momentum_radi_cut[k])/(np.linalg.norm(multi_mc_momentum_radi_cut[k])*np.linalg.norm(multi_xyz_hit_radi_cut[k]))\n",
    "    multi_cos_angle.append(cos_val)"
   ]
  },
  {
   "cell_type": "markdown",
   "id": "0eb67b29-ddd4-4361-bd50-3fbb148614ec",
   "metadata": {},
   "source": [
    "# 4 - Plots"
   ]
  },
  {
   "cell_type": "markdown",
   "id": "b30cd4a0-e3a2-4b1f-83b7-426c08d32a1e",
   "metadata": {},
   "source": [
    "## 4.1 - Time residual vs. $cos(α)$"
   ]
  },
  {
   "cell_type": "markdown",
   "id": "2885c7b1-990c-4805-bd63-5a16ddf6c54e",
   "metadata": {},
   "source": [
    "### 4.1.1 - cut time residual"
   ]
  },
  {
   "cell_type": "code",
   "execution_count": 98,
   "id": "6a5c25c5-4428-45d8-8103-1bd1250c47dd",
   "metadata": {},
   "outputs": [],
   "source": [
    "up_cut = 20\n",
    "inf_cut = -5\n",
    "\n",
    "multi_time_res_cut = []\n",
    "multi_cos_angle_cut = []\n",
    "\n",
    "for i in np.where((multi_time_res_radi_cut > inf_cut) & (multi_time_res_radi_cut < up_cut))[0]:\n",
    "\n",
    "    multi_time_res_cut.append(multi_time_res_radi_cut[i])\n",
    "    multi_cos_angle_cut.append(multi_cos_angle[i])"
   ]
  },
  {
   "cell_type": "code",
   "execution_count": 99,
   "id": "98cec77a-b34e-4bc6-bbe1-bdfd88f1f4af",
   "metadata": {
    "scrolled": true
   },
   "outputs": [
    {
     "name": "stdout",
     "output_type": "stream",
     "text": [
      "Using matplotlib backend: TkAgg\n"
     ]
    }
   ],
   "source": [
    "%matplotlib\n",
    "# 2d Histogram\n",
    "bins = 40\n",
    "\n",
    "title = 'cos(α) vs. time residual - Multiple evID - 10MeV - random (dir,vtx) - Vol. Cut'\n",
    "\n",
    "plt.figure(figsize=(12, 10))\n",
    "sn.set_style(rc = {'axes.facecolor': 'black'})\n",
    "sn.histplot(x = multi_cos_angle_cut, y = multi_time_res_cut, bins = [bins, bins], stat='count', cbar = 'True', cmap = cm.nipy_spectral)\n",
    "plt.ylabel('time residual')\n",
    "plt.xlabel('cos(α)')\n",
    "plt.title(title)\n",
    "\n",
    "#equal acis ration\n",
    "#ax = plt.gca()\n",
    "#ax.set_aspect('equal', adjustable='box')\n",
    "plt.show()\n",
    "#plt.savefig('figs/Low Stat/' + title +'.png', format = 'png')"
   ]
  },
  {
   "cell_type": "markdown",
   "id": "345243f5-df61-4468-99ba-c79dbc821da9",
   "metadata": {},
   "source": [
    "### 4.1.2 - Normalozation"
   ]
  },
  {
   "cell_type": "markdown",
   "id": "f6bccb1f-f315-49c2-8c04-be73940a8aa2",
   "metadata": {},
   "source": [
    "#### 4.1.2.1 - Normalización por Nhits"
   ]
  },
  {
   "cell_type": "code",
   "execution_count": 96,
   "id": "36640218-f72e-4d87-9a68-eba6e39a7096",
   "metadata": {},
   "outputs": [
    {
     "data": {
      "text/plain": [
       "<matplotlib.colorbar.Colorbar at 0x25a298a4da0>"
      ]
     },
     "execution_count": 96,
     "metadata": {},
     "output_type": "execute_result"
    }
   ],
   "source": [
    "#Transforma Data into an Image Matrix\n",
    "H, xedges, yedges = np.histogram2d(x = multi_cos_angle_cut, y = multi_time_res_cut, bins = [bins, bins])\n",
    "\n",
    "#Now recover the data axis representation of time residual vs cos(alpha)\n",
    "left = np.min(multi_time_res_cut)\n",
    "right = np.max(multi_time_res_cut)\n",
    "bottom = np.min(multi_cos_angle_cut)\n",
    "top = np.max(multi_cos_angle_cut)\n",
    "\n",
    "#Titles\n",
    "title = 'cos(α) vs. time residual- Multiple evID - 10 MeV - random (dir,vtx) - Vol. Cut'\n",
    "ylabel = 'cos(α)'\n",
    "xlabel = 'time residual'\n",
    "\n",
    "plt.imshow(H, extent = [left, right, top, bottom], aspect=\"auto\" ) #---> Here is our image as a Matrix Pixel\n",
    "plt.title(title)\n",
    "plt.ylabel(ylabel)\n",
    "plt.xlabel(xlabel)\n",
    "plt.colorbar()"
   ]
  },
  {
   "cell_type": "code",
   "execution_count": 100,
   "id": "c927e8f9-22e5-4429-ae62-2ce265c04222",
   "metadata": {},
   "outputs": [],
   "source": [
    "# sum of hits in each bin = sum over each column element of the matrix.\n",
    "sum_hit = np.sum(H,axis=0)  \n",
    "\n",
    "H_normalized1 = H / sum_hit\n",
    "\n",
    "N1title = 'Normalization by NHits - Multiple evID - 10 MeV - random (dir,vtx) - Vol. Cut'\n",
    "\n",
    "plt.figure(figsize=(12, 10))\n",
    "plt.imshow(H_normalized1, extent = [left, right, top, bottom], aspect=\"auto\" )\n",
    "plt.title(N1title)\n",
    "plt.ylabel(ylabel)\n",
    "plt.xlabel(xlabel)\n",
    "plt.colorbar()\n",
    "plt.savefig('figs/Low Stat/' + N1title +'.png', format = 'png')"
   ]
  },
  {
   "cell_type": "code",
   "execution_count": null,
   "id": "34813272-1314-4c4f-b8f6-8d3839d50ca7",
   "metadata": {},
   "outputs": [],
   "source": []
  }
 ],
 "metadata": {
  "kernelspec": {
   "display_name": "Python 3 (ipykernel)",
   "language": "python",
   "name": "python3"
  },
  "language_info": {
   "codemirror_mode": {
    "name": "ipython",
    "version": 3
   },
   "file_extension": ".py",
   "mimetype": "text/x-python",
   "name": "python",
   "nbconvert_exporter": "python",
   "pygments_lexer": "ipython3",
   "version": "3.12.2"
  }
 },
 "nbformat": 4,
 "nbformat_minor": 5
}
