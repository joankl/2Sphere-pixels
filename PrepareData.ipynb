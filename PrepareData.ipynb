{
 "cells": [
  {
   "cell_type": "markdown",
   "id": "afc1ea3a-fb4a-4eab-9e02-6531fb1761ff",
   "metadata": {},
   "source": [
    "# Rendimiento de Clasificación de Template Matching\n",
    "Notebook dedicado a estudiar el rendimiento de clasificación de eventos de solar_nu y ruido usando Template Matching"
   ]
  },
  {
   "cell_type": "code",
   "execution_count": 1,
   "id": "4c3d8df0-b1b4-425c-894b-1a52284ef20e",
   "metadata": {},
   "outputs": [],
   "source": [
    "import uproot\n",
    "import numpy as np\n",
    "\n",
    "import matplotlib\n",
    "import matplotlib.pyplot as plt\n",
    "from matplotlib import cm\n",
    "\n",
    "import seaborn as sn\n",
    "import pandas as pd \n",
    "\n",
    "from sklearn.preprocessing import RobustScaler, normalize"
   ]
  },
  {
   "cell_type": "code",
   "execution_count": 2,
   "id": "4990be9b-d01b-46d2-974a-1407190f8ab6",
   "metadata": {},
   "outputs": [],
   "source": [
    "def magnitude(vector): \n",
    "    #Funcion para calcular radio de eventos al centro del detector\n",
    "    \n",
    "    norm = []\n",
    "    for vec in vector:\n",
    "    \tnorm.append(np.linalg.norm(vec))\n",
    "\n",
    "    return np.array(norm, dtype = np.float32)"
   ]
  },
  {
   "cell_type": "markdown",
   "id": "59f8bb24-0a35-4d22-be87-bb1037bac688",
   "metadata": {},
   "source": [
    "# 1 - Extraer datos"
   ]
  },
  {
   "cell_type": "code",
   "execution_count": 3,
   "id": "d35ade07-e2b2-4e95-bb08-7066768e7b1f",
   "metadata": {},
   "outputs": [
    {
     "data": {
      "text/plain": [
       "['T;21', 'T;20', 'pmt;2', 'pmt;1']"
      ]
     },
     "execution_count": 3,
     "metadata": {},
     "output_type": "execute_result"
    }
   ],
   "source": [
    "# Archivo de Neutrinos Solares\n",
    "solar_file = uproot.open(\"/snoplus simulations/solar_nu/High Stat/split_1_simu_Analysis_solar_Nue.root\")\n",
    "solar_file.keys()"
   ]
  },
  {
   "cell_type": "code",
   "execution_count": 4,
   "id": "f3df5414-f6fd-405b-98ad-23af70d0429f",
   "metadata": {},
   "outputs": [
    {
     "data": {
      "text/plain": [
       "['T;74', 'T;73', 'pmt;2', 'pmt;1']"
      ]
     },
     "execution_count": 4,
     "metadata": {},
     "output_type": "execute_result"
    }
   ],
   "source": [
    "# Archivo de Ruido (Talio)\n",
    "tl_file = uproot.open(\"/snoplus simulations/talio/High Stat/split_1_simu_Analysis_Tl.root\")\n",
    "tl_file.keys()"
   ]
  },
  {
   "cell_type": "code",
   "execution_count": 5,
   "id": "27313462-5a58-49fe-8715-256f85248704",
   "metadata": {},
   "outputs": [],
   "source": [
    "solar_data = solar_file['T;21']\n",
    "tl_data = tl_file['T;74']\n",
    "pmt_info = solar_file['pmt;1']"
   ]
  },
  {
   "cell_type": "markdown",
   "id": "6d307827-eece-44de-b040-98b79d94ff4c",
   "metadata": {},
   "source": [
    "## 1.1 - PMT info"
   ]
  },
  {
   "cell_type": "code",
   "execution_count": 6,
   "id": "a01b5fcb-f5ef-42ce-a991-b860dc17d161",
   "metadata": {},
   "outputs": [],
   "source": [
    "pmt_id = np.array(pmt_info['pmt_id'], dtype = np.int16)\n",
    "pmt_pos_xyz = np.array(pmt_info['pmt_pos_xyz'])\n",
    "pmt_pos_sph = np.array(pmt_info['pmt_pos_sph'])\n",
    "pmt_type = np.array(pmt_info['pmt_type'], dtype = np.int16)"
   ]
  },
  {
   "cell_type": "markdown",
   "id": "efb47e36-ed33-4ae4-87c1-51fc53a31901",
   "metadata": {},
   "source": [
    "## 1.2 - Solar Variables"
   ]
  },
  {
   "cell_type": "code",
   "execution_count": 7,
   "id": "b3cdc9c7-7dac-49f8-bfeb-99224abe69fc",
   "metadata": {},
   "outputs": [
    {
     "data": {
      "text/plain": [
       "['evtid',\n",
       " 'mcID',\n",
       " 'energy',\n",
       " 'mc_position',\n",
       " 'mc_momentum',\n",
       " 'position',\n",
       " 'momentum',\n",
       " 'hit_pmtid',\n",
       " 'hit_pmttime',\n",
       " 'hit_residual',\n",
       " 'hit_type']"
      ]
     },
     "execution_count": 7,
     "metadata": {},
     "output_type": "execute_result"
    }
   ],
   "source": [
    "solar_data.keys()"
   ]
  },
  {
   "cell_type": "markdown",
   "id": "c72e83b0-fba5-4357-85c8-5709fae23f9b",
   "metadata": {},
   "source": [
    "Lets cut on number of events, for now"
   ]
  },
  {
   "cell_type": "raw",
   "id": "7d4e424f-e6f9-4433-9d5c-af62f56f8e9b",
   "metadata": {},
   "source": [
    "n_events = 750\n",
    "solar_mcID = np.array(solar_data['mcID'], dtype = np.int16)\n",
    "solar_limit = (np.where(solar_mcID == n_events + 1)[0])[0] - 1"
   ]
  },
  {
   "cell_type": "code",
   "execution_count": 8,
   "id": "55cc2924-da67-4742-b737-900ee1955d08",
   "metadata": {},
   "outputs": [],
   "source": [
    "solar_mcID = np.array(solar_data['mcID'], dtype = np.int16)#[:solar_limit]\n",
    "solar_energy = np.array(solar_data['energy'], dtype = np.float32)#[:solar_limit]\n",
    "solar_mc_position = np.array(solar_data['mc_position'])#[:solar_limit]   #-> Position Generation\n",
    "solar_mc_momentum = np.array(solar_data['mc_momentum'])#[:solar_limit]   #-> IMPORTANT: Direction of simulated event\n",
    "solar_position = np.array(solar_data['position'])#[:solar_limit]        \n",
    "solar_hit_pmtid = np.array(solar_data['hit_pmtid'], dtype = np.int16)#[:solar_limit]\n",
    "solar_time_residual = np.array(solar_data['hit_residual'])#[:solar_limit]\n",
    "solar_hit_type = np.array(solar_data['hit_type'], dtype = np.int16)#[:solar_limit]"
   ]
  },
  {
   "cell_type": "markdown",
   "id": "77310fd8-84e9-4aa1-9a9b-505291e596f9",
   "metadata": {
    "editable": true,
    "slideshow": {
     "slide_type": ""
    },
    "tags": []
   },
   "source": [
    "## 1.3 - Tálio Variables"
   ]
  },
  {
   "cell_type": "raw",
   "id": "a4bf8abb-d532-40dd-884f-5339efaa4fcf",
   "metadata": {},
   "source": [
    "tl_mcID = np.array(tl_data['mcID'], dtype = np.int16)\n",
    "tl_limit = (np.where(tl_mcID == n_events + 1)[0])[0] - 1"
   ]
  },
  {
   "cell_type": "code",
   "execution_count": 9,
   "id": "a68dc9b5-bdf5-4f17-9497-29100f84eb31",
   "metadata": {},
   "outputs": [],
   "source": [
    "tl_mcID = np.array(tl_data['mcID'], dtype = np.int16)#[:tl_limit]\n",
    "tl_energy = np.array(tl_data['energy'], dtype = np.float32)#[:tl_limit]\n",
    "tl_mc_position = np.array(tl_data['mc_position'])#[:tl_limit]   #-> Position Generation\n",
    "tl_mc_momentum = np.array(tl_data['mc_momentum'])#[:tl_limit]   #-> IMPORTANT: Direction of simulated event\n",
    "tl_position = np.array(tl_data['position'])#[:tl_limit]        \n",
    "tl_hit_pmtid = np.array(tl_data['hit_pmtid'], dtype = np.int16)#[:tl_limit]\n",
    "tl_time_residual = np.array(tl_data['hit_residual'])#[:tl_limit]\n",
    "tl_hit_type = np.array(tl_data['hit_type'], dtype = np.int16)#[:tl_limit]"
   ]
  },
  {
   "cell_type": "markdown",
   "id": "a1815103-778d-4103-bd13-3685695603a9",
   "metadata": {},
   "source": [
    "## 1.3 - Numero de Eventos de Simulación"
   ]
  },
  {
   "cell_type": "code",
   "execution_count": 10,
   "id": "3067d2ea-9959-40e5-9a8d-1a18bdc484e9",
   "metadata": {},
   "outputs": [
    {
     "name": "stdout",
     "output_type": "stream",
     "text": [
      "Solar events: 46117\n",
      "Tl events: 44856\n"
     ]
    }
   ],
   "source": [
    "solar_break_i = [0]\n",
    "tl_break_i = [0]\n",
    "\n",
    "solar_N_data = len(solar_mcID)\n",
    "tl_N_data = len(tl_mcID)\n",
    "\n",
    "for solar_i, tl_i in zip(range(solar_N_data-1), range(tl_N_data-1)):\n",
    "    if solar_mcID[solar_i] != solar_mcID[solar_i+1]:\n",
    "        solar_break_i.append(solar_i+1)\n",
    "    if tl_mcID[tl_i] != tl_mcID[tl_i+1]:\n",
    "        tl_break_i.append(tl_i+1)\n",
    "\n",
    "N_solar_evs = len(solar_break_i)\n",
    "N_tl_evs = len(tl_break_i)\n",
    "\n",
    "print('Solar events:', N_solar_evs)\n",
    "print('Tl events:', N_tl_evs)"
   ]
  },
  {
   "cell_type": "markdown",
   "id": "64ae0787-d390-4a63-8ff6-c4f40a9f0e92",
   "metadata": {},
   "source": [
    "# 2 - Select Valid Data\n",
    "\n",
    "Select only hits that verify pmt_type = 1"
   ]
  },
  {
   "cell_type": "code",
   "execution_count": 10,
   "id": "29bb3ecd-ff00-43ea-a195-cf4afaa936a1",
   "metadata": {},
   "outputs": [],
   "source": [
    "valid_pmt_id = np.array(np.where(pmt_type == 1)[0]) # PMT valid ID match with index where pmt_type=1\n",
    "\n",
    "#extract valid indices in data\n",
    "solar_valid_id_info_i = np.array(np.where(np.in1d(solar_hit_pmtid, valid_pmt_id))[0])\n",
    "tl_valid_id_info__i = np.array(np.where(np.in1d(tl_hit_pmtid, valid_pmt_id))[0])\n",
    "\n",
    "#extract coordinates of pmt_type = 1\n",
    "valid_pmt_xyz = []   #List of valid PMT coordinates (type 1)\n",
    "for i_dx in valid_pmt_id:\n",
    "    valid_pmt_xyz.append(pmt_pos_xyz[i_dx])\n",
    "valid_pmt_xyz = np.array(valid_pmt_xyz)"
   ]
  },
  {
   "cell_type": "code",
   "execution_count": 11,
   "id": "549547b0-df15-4066-bb10-dab85651638f",
   "metadata": {},
   "outputs": [
    {
     "data": {
      "text/plain": [
       "array([       0,        1,        2, ..., 41283366, 41283367, 41283368],\n",
       "      dtype=int64)"
      ]
     },
     "execution_count": 11,
     "metadata": {},
     "output_type": "execute_result"
    }
   ],
   "source": [
    "solar_valid_id_info_i"
   ]
  },
  {
   "cell_type": "markdown",
   "id": "a9df00e7-2891-4368-9775-ac2fe1c21fd7",
   "metadata": {},
   "source": [
    "# 3 - Process Data\n",
    "\n",
    "Procesamiento de datos (corte en volumen, energia y tiempo), calculo de observable cos(α)"
   ]
  },
  {
   "cell_type": "markdown",
   "id": "476ece15-bdd7-4431-a341-d52d041def03",
   "metadata": {},
   "source": [
    "## 3.1 - Ajuste de Procesamiento\n",
    "\n",
    "El ajuste será aplicado a simulaciones de Tálio y de neutrinos Solares"
   ]
  },
  {
   "cell_type": "code",
   "execution_count": 12,
   "id": "96c3dea3-a39d-4bab-8531-80dbfd9fcb4a",
   "metadata": {},
   "outputs": [],
   "source": [
    "#params to adjust the cuts--------------------------------------------\n",
    "#Split Data\n",
    "split = 20\n",
    "\n",
    "#energy cut\n",
    "inf_en_cut = 4\n",
    "up_en_cut = 6\n",
    "\n",
    "#time cut (ns)\n",
    "inf_cut = -5.0\n",
    "up_cut = 7.0\n",
    "\n",
    "#radial cut\n",
    "radi_cut_method = True   #If true, apply radial cuts given by rad_cut_val to data\n",
    "rad_cut_val = 5500.0   # Buen valor de corte para observar una identificación efizas de neutrinos solares\n",
    "#--------------------------------------------------------------------------"
   ]
  },
  {
   "cell_type": "markdown",
   "id": "f81c4045-7666-4f83-ab1e-8274fb188488",
   "metadata": {},
   "source": [
    "### 3.1.1 - Procesamiento de Solares"
   ]
  },
  {
   "cell_type": "code",
   "execution_count": 13,
   "id": "cb587332-f9a3-48cf-955d-9dafe250be19",
   "metadata": {
    "editable": true,
    "slideshow": {
     "slide_type": ""
    },
    "tags": []
   },
   "outputs": [
    {
     "name": "stdout",
     "output_type": "stream",
     "text": [
      "slipt nº: 0\n",
      "In energy cut\n",
      "In radi_cut\n",
      "computing cos(alpha)\n",
      "doing time residual cuts\n",
      "slipt nº: 1\n",
      "In energy cut\n",
      "In radi_cut\n",
      "computing cos(alpha)\n",
      "doing time residual cuts\n",
      "slipt nº: 2\n",
      "In energy cut\n",
      "In radi_cut\n",
      "computing cos(alpha)\n",
      "doing time residual cuts\n",
      "slipt nº: 3\n",
      "In energy cut\n",
      "In radi_cut\n",
      "computing cos(alpha)\n",
      "doing time residual cuts\n",
      "slipt nº: 4\n",
      "In energy cut\n",
      "In radi_cut\n",
      "computing cos(alpha)\n",
      "doing time residual cuts\n",
      "slipt nº: 5\n",
      "In energy cut\n",
      "In radi_cut\n",
      "computing cos(alpha)\n",
      "doing time residual cuts\n",
      "slipt nº: 6\n",
      "In energy cut\n",
      "In radi_cut\n",
      "computing cos(alpha)\n",
      "doing time residual cuts\n",
      "slipt nº: 7\n",
      "In energy cut\n",
      "In radi_cut\n",
      "computing cos(alpha)\n",
      "doing time residual cuts\n",
      "slipt nº: 8\n",
      "In energy cut\n",
      "In radi_cut\n",
      "computing cos(alpha)\n",
      "doing time residual cuts\n",
      "slipt nº: 9\n",
      "In energy cut\n",
      "In radi_cut\n",
      "computing cos(alpha)\n",
      "doing time residual cuts\n",
      "slipt nº: 10\n",
      "In energy cut\n",
      "In radi_cut\n",
      "computing cos(alpha)\n",
      "doing time residual cuts\n",
      "slipt nº: 11\n",
      "In energy cut\n",
      "In radi_cut\n",
      "computing cos(alpha)\n",
      "doing time residual cuts\n",
      "slipt nº: 12\n",
      "In energy cut\n",
      "In radi_cut\n",
      "computing cos(alpha)\n",
      "doing time residual cuts\n",
      "slipt nº: 13\n",
      "In energy cut\n",
      "In radi_cut\n",
      "computing cos(alpha)\n",
      "doing time residual cuts\n",
      "slipt nº: 14\n",
      "In energy cut\n",
      "In radi_cut\n",
      "computing cos(alpha)\n",
      "doing time residual cuts\n",
      "slipt nº: 15\n",
      "In energy cut\n",
      "In radi_cut\n",
      "computing cos(alpha)\n",
      "doing time residual cuts\n",
      "slipt nº: 16\n",
      "In energy cut\n",
      "In radi_cut\n",
      "computing cos(alpha)\n",
      "doing time residual cuts\n",
      "slipt nº: 17\n",
      "In energy cut\n",
      "In radi_cut\n",
      "computing cos(alpha)\n",
      "doing time residual cuts\n",
      "slipt nº: 18\n",
      "In energy cut\n",
      "In radi_cut\n",
      "computing cos(alpha)\n",
      "doing time residual cuts\n",
      "slipt nº: 19\n",
      "In energy cut\n",
      "In radi_cut\n",
      "computing cos(alpha)\n",
      "doing time residual cuts\n"
     ]
    }
   ],
   "source": [
    "# Dividir valid_id_info_ev_i en partes\n",
    "valid_info_ev_split = np.array_split(solar_valid_id_info_i, split)  #---> split(array, parts)\n",
    "\n",
    "#variables to save: with time residual cuts and radi cut (radi cut is optional, depends on the simulation)\n",
    "solar_multi_time_residual_cut = []\n",
    "solar_multi_cos_angle_cut = []\n",
    "#multi_position_cut = []\n",
    "solar_multi_mc_momentum_cut = []\n",
    "solar_multi_mc_ID_cut = []\n",
    "solar_multi_energy_cut = []\n",
    "solar_multi_radi_cut = []\n",
    "\n",
    "#loop over valid_info_ev_split\n",
    "for n_loop, split_array in enumerate(valid_info_ev_split):\n",
    "    print('slipt nº:', n_loop)\n",
    "    # extract all valid simulated info \n",
    "    multi_radi = []\n",
    "    multi_energy = []\n",
    "    multi_mc_ID = []\n",
    "    multi_time_residual = []\n",
    "    multi_pmt_id_hit = []\n",
    "    multi_position = []\n",
    "    #multi_mc_position = []\n",
    "    multi_mc_momentum = []   \n",
    "    multi_xyz_hit = []\n",
    "\n",
    "    for valid_i in split_array:\n",
    "        multi_energy.append(solar_energy[valid_i])\n",
    "        multi_mc_ID.append(solar_mcID[valid_i])\n",
    "        multi_time_residual.append(solar_time_residual[valid_i])\n",
    "        multi_pmt_id_hit.append(solar_hit_pmtid[valid_i])\n",
    "        multi_position.append(solar_position[valid_i])\n",
    "        #multi_mc_position.append(mc_position[valid_i])\n",
    "        multi_mc_momentum.append(solar_mc_momentum[valid_i])\n",
    "    multi_energy = np.array(multi_energy)\n",
    "    multi_time_residual = np.array(multi_time_residual)\n",
    "    multi_pmt_id_hit = np.array(multi_pmt_id_hit)\n",
    "    multi_position = np.array(multi_position)\n",
    "\n",
    "    for id_i in multi_pmt_id_hit:\n",
    "        multi_xyz_hit.append(pmt_pos_xyz[id_i])\n",
    "    multi_xyz_hit = np.array(multi_xyz_hit)\n",
    "\n",
    "    #energy_cut:\n",
    "    print('In energy cut')\n",
    "    condition_en_cut = (multi_energy > inf_en_cut) & (multi_energy < up_en_cut)\n",
    "    \n",
    "    #variables to extract\n",
    "    multi_energy = np.extract(condition_en_cut, multi_energy)\n",
    "    multi_mc_ID = np.extract(condition_en_cut, multi_mc_ID)\n",
    "    multi_time_residual = np.extract(condition_en_cut, multi_time_residual)\n",
    "    multi_pmt_id_hit = np.extract(condition_en_cut, multi_pmt_id_hit)\n",
    "\n",
    "    multi_mc_momentum_en_cut = []\n",
    "    multi_position_en_cut = []\n",
    "    for e_dx in np.where(condition_en_cut)[0]:\n",
    "        multi_mc_momentum_en_cut.append(multi_mc_momentum[e_dx])\n",
    "        multi_position_en_cut.append(multi_position[e_dx])\n",
    "    multi_mc_momentum = np.array(multi_mc_momentum_en_cut)\n",
    "    multi_position = np.array(multi_position_en_cut)\n",
    "    #freed memory\n",
    "    multi_mc_momentum_en_cut = None\n",
    "    multi_position_en_cut = None\n",
    "            \n",
    "    #Radial Cut:\n",
    "    if radi_cut_method == True:\n",
    "        print('In radi_cut')\n",
    "        #mc_position_norm = magnitude(multi_mc_position)\n",
    "        position_norm = magnitude(multi_position)\n",
    "        multi_radi.append(position_norm)\n",
    "        \n",
    "        max_radi = rad_cut_val\n",
    "        radi_condition = (position_norm < max_radi)\n",
    "        index_cut_radi = np.array(np.where(radi_condition)[0])\n",
    "        #variables to extract\n",
    "        multi_time_residual = np.extract(radi_condition, multi_time_residual)\n",
    "        multi_pmt_id_hit = np.extract(radi_condition, multi_pmt_id_hit)\n",
    "        multi_energy = np.extract(radi_condition, multi_energy)\n",
    "        multi_radi = np.extract(radi_condition, multi_radi)\n",
    "\n",
    "        multi_mc_ID_radi_cut = []\n",
    "        multi_mc_momentum_radi_cut = []\n",
    "        multi_position_radi_cut = []\n",
    "        multi_xyz_hit_radi_cut = [] \n",
    "\n",
    "        for j_dx in index_cut_radi:\n",
    "            multi_mc_momentum_radi_cut.append(multi_mc_momentum[j_dx])\n",
    "            multi_position_radi_cut.append(multi_position[j_dx])          #HERE\n",
    "            multi_mc_ID_radi_cut.append(multi_mc_ID[j_dx])\n",
    "\n",
    "        for id_i in multi_pmt_id_hit:\n",
    "            multi_xyz_hit_radi_cut.append(pmt_pos_xyz[id_i])\n",
    "\n",
    "        multi_mc_ID = multi_mc_ID_radi_cut\n",
    "        multi_mc_momentum = multi_mc_momentum_radi_cut   #HERE\n",
    "        multi_position = multi_position_radi_cut\n",
    "        multi_xyz_hit = multi_xyz_hit_radi_cut\n",
    "        \n",
    "        #freed memory\n",
    "        multi_mc_ID_radi_cut = None\n",
    "        multi_mc_momentum_radi_cut = None\n",
    "        multi_position_radi_cut = None\n",
    "        multi_xyz_hit_radi_cut = None\n",
    "        radi_condition = None\n",
    "        index_cut_radi = None\n",
    "        \n",
    "    #cos(alpha) calculation -> Uses the definition of scalar product\n",
    "    multi_cos_angle = []\n",
    "    N = np.shape(multi_xyz_hit)[0]\n",
    "\n",
    "    print('computing cos(alpha)')\n",
    "    for k in range(N):\n",
    "        #event_direction = np.array([0,0,-1])\n",
    "        event_direction = multi_mc_momentum[k]\n",
    "        scalar_product = np.dot(multi_xyz_hit[k], event_direction)\n",
    "        norm_1 = np.linalg.norm(event_direction)\n",
    "        norm_2 = np.linalg.norm(multi_xyz_hit[k])\n",
    "        cos_val = scalar_product/(norm_1*norm_2)\n",
    "        \n",
    "        multi_cos_angle.append(cos_val)\n",
    "\n",
    "    #Time residual cut:\n",
    "    print('doing time residual cuts')\n",
    "    for i in np.where((multi_time_residual > inf_cut) & (multi_time_residual < up_cut))[0]:\n",
    "        solar_multi_time_residual_cut.append(multi_time_residual[i])\n",
    "        solar_multi_cos_angle_cut.append(multi_cos_angle[i])\n",
    "        #solar_multi_position_cut.append(multi_position[i])\n",
    "        solar_multi_mc_momentum_cut.append(multi_mc_momentum[i])\n",
    "        solar_multi_mc_ID_cut.append(multi_mc_ID[i])\n",
    "        solar_multi_energy_cut.append(multi_energy[i])\n",
    "        solar_multi_radi_cut.append(multi_radi[i])\n",
    "\n",
    "    #freed memory\n",
    "    multi_cos_angle = None\n",
    "\n",
    "    #freen memory:    \n",
    "    multi_mc_ID = None\n",
    "    multi_time_residual = None\n",
    "    multi_pmt_id_hit = None\n",
    "    multi_position = None\n",
    "    multi_mc_position = None\n",
    "    multi_mc_momentum = None\n",
    "    multi_xyz_hit = None\n",
    "    multi_energy = None\n",
    "    multi_radi = None\n",
    "\n",
    "#multi_position_cut = np.array(multi_position_cut)\n",
    "solar_multi_mc_momentum_cut = np.array(solar_multi_mc_momentum_cut)\n",
    "solar_multi_mc_ID_cut = np.array(solar_multi_mc_ID_cut, dtype = np.int16)\n",
    "solar_multi_energy_cut = np.array(solar_multi_energy_cut)\n",
    "solar_multi_radi_cut = np.array(solar_multi_radi_cut)"
   ]
  },
  {
   "cell_type": "raw",
   "id": "f850cc95-c8b5-4ed5-a6dc-97ba92f0e5f7",
   "metadata": {
    "editable": true,
    "slideshow": {
     "slide_type": ""
    },
    "tags": []
   },
   "source": [
    "(np.unique(solar_multi_mc_ID_cut))"
   ]
  },
  {
   "cell_type": "raw",
   "id": "44f07d43-72b5-4882-87e9-f4a75ae17a93",
   "metadata": {},
   "source": [
    "(np.unique(solar_multi_energy_cut))"
   ]
  },
  {
   "cell_type": "markdown",
   "id": "08544316-7770-45c9-8bc3-85afaccdc13b",
   "metadata": {},
   "source": [
    "### 3.1.2 - Procesamiento de Tálio"
   ]
  },
  {
   "cell_type": "code",
   "execution_count": 14,
   "id": "7c05c3e5-4f6d-48ed-bb25-90ea1c2ca525",
   "metadata": {
    "editable": true,
    "slideshow": {
     "slide_type": ""
    },
    "tags": []
   },
   "outputs": [
    {
     "name": "stdout",
     "output_type": "stream",
     "text": [
      "slipt nº: 0\n",
      "In energy cut\n",
      "In radi_cut\n",
      "computing cos(alpha)\n",
      "doing time residual cuts\n",
      "slipt nº: 1\n",
      "In energy cut\n",
      "In radi_cut\n",
      "computing cos(alpha)\n",
      "doing time residual cuts\n",
      "slipt nº: 2\n",
      "In energy cut\n",
      "In radi_cut\n",
      "computing cos(alpha)\n",
      "doing time residual cuts\n",
      "slipt nº: 3\n",
      "In energy cut\n",
      "In radi_cut\n",
      "computing cos(alpha)\n",
      "doing time residual cuts\n",
      "slipt nº: 4\n",
      "In energy cut\n",
      "In radi_cut\n",
      "computing cos(alpha)\n",
      "doing time residual cuts\n",
      "slipt nº: 5\n",
      "In energy cut\n",
      "In radi_cut\n",
      "computing cos(alpha)\n",
      "doing time residual cuts\n",
      "slipt nº: 6\n",
      "In energy cut\n",
      "In radi_cut\n",
      "computing cos(alpha)\n",
      "doing time residual cuts\n",
      "slipt nº: 7\n",
      "In energy cut\n",
      "In radi_cut\n",
      "computing cos(alpha)\n",
      "doing time residual cuts\n",
      "slipt nº: 8\n",
      "In energy cut\n",
      "In radi_cut\n",
      "computing cos(alpha)\n",
      "doing time residual cuts\n",
      "slipt nº: 9\n",
      "In energy cut\n",
      "In radi_cut\n",
      "computing cos(alpha)\n",
      "doing time residual cuts\n",
      "slipt nº: 10\n",
      "In energy cut\n",
      "In radi_cut\n",
      "computing cos(alpha)\n",
      "doing time residual cuts\n",
      "slipt nº: 11\n",
      "In energy cut\n",
      "In radi_cut\n",
      "computing cos(alpha)\n",
      "doing time residual cuts\n",
      "slipt nº: 12\n",
      "In energy cut\n",
      "In radi_cut\n",
      "computing cos(alpha)\n",
      "doing time residual cuts\n",
      "slipt nº: 13\n",
      "In energy cut\n",
      "In radi_cut\n",
      "computing cos(alpha)\n",
      "doing time residual cuts\n",
      "slipt nº: 14\n",
      "In energy cut\n",
      "In radi_cut\n",
      "computing cos(alpha)\n",
      "doing time residual cuts\n",
      "slipt nº: 15\n",
      "In energy cut\n",
      "In radi_cut\n",
      "computing cos(alpha)\n",
      "doing time residual cuts\n",
      "slipt nº: 16\n",
      "In energy cut\n",
      "In radi_cut\n",
      "computing cos(alpha)\n",
      "doing time residual cuts\n",
      "slipt nº: 17\n",
      "In energy cut\n",
      "In radi_cut\n",
      "computing cos(alpha)\n",
      "doing time residual cuts\n",
      "slipt nº: 18\n",
      "In energy cut\n",
      "In radi_cut\n",
      "computing cos(alpha)\n",
      "doing time residual cuts\n",
      "slipt nº: 19\n",
      "In energy cut\n",
      "In radi_cut\n",
      "computing cos(alpha)\n",
      "doing time residual cuts\n"
     ]
    }
   ],
   "source": [
    "# Dividir valid_id_info_ev_i en partes\n",
    "valid_info_ev_split = np.array_split(tl_valid_id_info__i, split)  #---> split(array, parts)\n",
    "\n",
    "#variables to save: with time residual cuts and radi cut (radi cut is optional, depends on the simulation)\n",
    "tl_multi_time_residual_cut = []\n",
    "tl_multi_cos_angle_cut = []\n",
    "#multi_position_cut = []\n",
    "tl_multi_mc_momentum_cut = []\n",
    "tl_multi_mc_ID_cut = []\n",
    "tl_multi_energy_cut = []\n",
    "tl_multi_hit_xyz_cut = []  #save the coordinates of hits to be used to generate the background with (random direction != mc_momentum)\n",
    "tl_multi_radi_cut = []\n",
    "\n",
    "#loop over valid_info_ev_split\n",
    "for n_loop, split_array in enumerate(valid_info_ev_split):\n",
    "    print('slipt nº:', n_loop)\n",
    "    # extract all valid simulated info \n",
    "    multi_radi = []\n",
    "    multi_energy = []\n",
    "    multi_mc_ID = []\n",
    "    multi_time_residual = []\n",
    "    multi_pmt_id_hit = []\n",
    "    multi_position = []\n",
    "    #multi_mc_position = []\n",
    "    multi_mc_momentum = []   \n",
    "    multi_xyz_hit = []\n",
    "\n",
    "    for valid_i in split_array:\n",
    "        multi_energy.append(tl_energy[valid_i])\n",
    "        multi_mc_ID.append(tl_mcID[valid_i])\n",
    "        multi_time_residual.append(tl_time_residual[valid_i])\n",
    "        multi_pmt_id_hit.append(tl_hit_pmtid[valid_i])\n",
    "        multi_position.append(tl_position[valid_i])\n",
    "        #multi_mc_position.append(mc_position[valid_i])\n",
    "        multi_mc_momentum.append(tl_mc_momentum[valid_i])\n",
    "    multi_energy = np.array(multi_energy)\n",
    "    multi_time_residual = np.array(multi_time_residual)\n",
    "    multi_pmt_id_hit = np.array(multi_pmt_id_hit)\n",
    "    multi_position = np.array(multi_position)\n",
    "\n",
    "    for id_i in multi_pmt_id_hit:\n",
    "        multi_xyz_hit.append(pmt_pos_xyz[id_i])\n",
    "    multi_xyz_hit = np.array(multi_xyz_hit)\n",
    "\n",
    "    #energy_cut:\n",
    "    print('In energy cut')\n",
    "    condition_en_cut = (multi_energy > inf_en_cut) & (multi_energy < up_en_cut)\n",
    "    \n",
    "    #variables to extract\n",
    "    multi_energy = np.extract(condition_en_cut, multi_energy)\n",
    "    multi_mc_ID = np.extract(condition_en_cut, multi_mc_ID)\n",
    "    multi_time_residual = np.extract(condition_en_cut, multi_time_residual)\n",
    "    multi_pmt_id_hit = np.extract(condition_en_cut, multi_pmt_id_hit)\n",
    "\n",
    "    multi_mc_momentum_en_cut = []\n",
    "    multi_position_en_cut = []\n",
    "    for e_dx in np.where(condition_en_cut)[0]:\n",
    "        multi_mc_momentum_en_cut.append(multi_mc_momentum[e_dx])\n",
    "        multi_position_en_cut.append(multi_position[e_dx])\n",
    "    multi_mc_momentum = np.array(multi_mc_momentum_en_cut)\n",
    "    multi_position = np.array(multi_position_en_cut)\n",
    "    #freed memory\n",
    "    multi_mc_momentum_en_cut = None\n",
    "    multi_position_en_cut = None\n",
    "            \n",
    "    #Radial Cut:\n",
    "    if radi_cut_method == True:\n",
    "        print('In radi_cut')\n",
    "        #mc_position_norm = magnitude(multi_mc_position)\n",
    "        position_norm = magnitude(multi_position)\n",
    "        multi_radi.append(position_norm)\n",
    "        \n",
    "        max_radi = rad_cut_val\n",
    "        radi_condition = (position_norm < max_radi)\n",
    "        index_cut_radi = np.array(np.where(radi_condition)[0])\n",
    "        #variables to extract\n",
    "        multi_time_residual = np.extract(radi_condition, multi_time_residual)\n",
    "        multi_pmt_id_hit = np.extract(radi_condition, multi_pmt_id_hit)\n",
    "        multi_energy = np.extract(radi_condition, multi_energy)\n",
    "        multi_radi = np.extract(radi_condition, multi_radi)\n",
    "\n",
    "        multi_mc_ID_radi_cut = []\n",
    "        multi_mc_momentum_radi_cut = []\n",
    "        multi_position_radi_cut = []\n",
    "        multi_xyz_hit_radi_cut = [] \n",
    "\n",
    "        for j_dx in index_cut_radi:\n",
    "            multi_mc_momentum_radi_cut.append(multi_mc_momentum[j_dx])\n",
    "            multi_position_radi_cut.append(multi_position[j_dx])          #HERE\n",
    "            multi_mc_ID_radi_cut.append(multi_mc_ID[j_dx])\n",
    "\n",
    "        for id_i in multi_pmt_id_hit:\n",
    "            multi_xyz_hit_radi_cut.append(pmt_pos_xyz[id_i])\n",
    "\n",
    "        multi_mc_ID = multi_mc_ID_radi_cut\n",
    "        multi_mc_momentum = multi_mc_momentum_radi_cut   #HERE\n",
    "        multi_position = multi_position_radi_cut\n",
    "        multi_xyz_hit = multi_xyz_hit_radi_cut\n",
    "        \n",
    "        #freed memory\n",
    "        multi_mc_ID_radi_cut = None\n",
    "        multi_mc_momentum_radi_cut = None\n",
    "        multi_position_radi_cut = None\n",
    "        multi_xyz_hit_radi_cut = None\n",
    "        radi_condition = None\n",
    "        index_cut_radi = None\n",
    "        \n",
    "    #cos(alpha) calculation -> Uses the definition of scalar product\n",
    "    multi_cos_angle = []\n",
    "    N = np.shape(multi_xyz_hit)[0]\n",
    "\n",
    "    print('computing cos(alpha)')\n",
    "    for k in range(N):\n",
    "        #event_direction = np.array([0,0,-1])\n",
    "        event_direction = multi_mc_momentum[k]\n",
    "        scalar_product = np.dot(multi_xyz_hit[k], event_direction)\n",
    "        norm_1 = np.linalg.norm(event_direction)\n",
    "        norm_2 = np.linalg.norm(multi_xyz_hit[k])\n",
    "        cos_val = scalar_product/(norm_1*norm_2)\n",
    "        \n",
    "        multi_cos_angle.append(cos_val)\n",
    "\n",
    "    #Time residual cut:\n",
    "    print('doing time residual cuts')\n",
    "    for i in np.where((multi_time_residual > inf_cut) & (multi_time_residual < up_cut))[0]:\n",
    "        tl_multi_time_residual_cut.append(multi_time_residual[i])\n",
    "        tl_multi_cos_angle_cut.append(multi_cos_angle[i])\n",
    "        #multi_position_cut.append(multi_position[i])\n",
    "        tl_multi_mc_momentum_cut.append(multi_mc_momentum[i])\n",
    "        tl_multi_mc_ID_cut.append(multi_mc_ID[i])\n",
    "        tl_multi_energy_cut.append(multi_energy[i])\n",
    "        tl_multi_hit_xyz_cut.append(multi_xyz_hit[i])\n",
    "        tl_multi_radi_cut.append(multi_radi[i])\n",
    "\n",
    "    #freed memory\n",
    "    multi_cos_angle = None\n",
    "\n",
    "    #freen memory:    \n",
    "    multi_mc_ID = None\n",
    "    multi_time_residual = None\n",
    "    multi_pmt_id_hit = None\n",
    "    multi_position = None\n",
    "    multi_mc_position = None\n",
    "    multi_mc_momentum = None\n",
    "    multi_xyz_hit = None\n",
    "    multi_energy = None\n",
    "\n",
    "#multi_position_cut = np.array(multi_position_cut)\n",
    "tl_multi_mc_momentum_cut = np.array(tl_multi_mc_momentum_cut)\n",
    "tl_multi_mc_ID_cut = np.array(tl_multi_mc_ID_cut, dtype = np.int16)\n",
    "tl_multi_energy_cut = np.array(tl_multi_energy_cut)\n",
    "tl_multi_hit_xyz_cut = np.array(tl_multi_hit_xyz_cut)\n",
    "tl_multi_radi_cut = np.array(tl_multi_radi_cut)"
   ]
  },
  {
   "cell_type": "raw",
   "id": "bc3b1b33-a60a-43ce-939a-3e006f2f3bc9",
   "metadata": {},
   "source": [
    "tl_multi_mc_momentum_cut"
   ]
  },
  {
   "cell_type": "raw",
   "id": "698feb9e-1173-4f2a-859c-ffca44efd37c",
   "metadata": {
    "editable": true,
    "slideshow": {
     "slide_type": ""
    },
    "tags": []
   },
   "source": [
    "np.unique(solar_multi_mc_ID_cut)"
   ]
  },
  {
   "cell_type": "raw",
   "id": "4ac56f12-e4de-4340-89b0-f63412192b30",
   "metadata": {
    "editable": true,
    "scrolled": true,
    "slideshow": {
     "slide_type": ""
    },
    "tags": []
   },
   "source": [
    "np.unique(tl_multi_mc_ID_cut)"
   ]
  },
  {
   "cell_type": "raw",
   "id": "148abb8f-31aa-46fd-b8a1-4627cb4fd03c",
   "metadata": {
    "scrolled": true
   },
   "source": [
    "np.unique(solar_multi_energy_cut)"
   ]
  },
  {
   "cell_type": "raw",
   "id": "da4ea840-604e-4170-950b-262570e1b7ed",
   "metadata": {
    "scrolled": true
   },
   "source": [
    "np.unique(tl_multi_energy_cut)"
   ]
  },
  {
   "cell_type": "markdown",
   "id": "f418df44-352f-4af6-a843-70834c2cf9b4",
   "metadata": {},
   "source": [
    "# 4 - Extraer Datos de Entrenamiento\n",
    "\n",
    "Serán extraidos, evento a evento, las imagenes de la distribucion Δα y se hará la correspondencia (solar νe = 1) y (tl = 0) a cada imagen"
   ]
  },
  {
   "cell_type": "code",
   "execution_count": 15,
   "id": "b14a7ffb-d36f-4fc6-a41f-cebd236f73de",
   "metadata": {},
   "outputs": [
    {
     "name": "stdout",
     "output_type": "stream",
     "text": [
      "La diferencia de Nº de evento es  1685\n",
      "eventos totales para ser usados: 14842\n"
     ]
    }
   ],
   "source": [
    "solar_break_i = [0]\n",
    "tl_break_i = [0]\n",
    "\n",
    "solar_N_data = len(solar_multi_mc_ID_cut)\n",
    "tl_N_data = len(tl_multi_mc_ID_cut)\n",
    "\n",
    "for solar_i, tl_i in zip(range(solar_N_data-1), range(tl_N_data-1)):\n",
    "    if solar_multi_mc_ID_cut[solar_i] != solar_multi_mc_ID_cut[solar_i+1]:\n",
    "        solar_break_i.append(solar_i+1)\n",
    "    if tl_multi_mc_ID_cut[tl_i] != tl_multi_mc_ID_cut[tl_i+1]:\n",
    "        tl_break_i.append(tl_i+1)\n",
    "\n",
    "N_solar_evs = len(solar_break_i)\n",
    "N_tl_evs = len(tl_break_i)\n",
    "        \n",
    "print('La diferencia de Nº de evento es ', abs(N_solar_evs- N_tl_evs))\n",
    "\n",
    "#Igualar nº de eventos\n",
    "if N_solar_evs > tl_N_data:\n",
    "    solar_break_i = solar_break_i[0:tl_N_data]\n",
    "\n",
    "if  tl_N_data > N_solar_evs:\n",
    "    tl_break_i = tl_break_i[0:N_solar_evs]\n",
    "\n",
    "solar_break_i = np.array(solar_break_i)\n",
    "tl_break_i = np.array(tl_break_i)\n",
    "\n",
    "print('eventos totales para ser usados:', 2*(len(tl_break_i) - 1))"
   ]
  },
  {
   "cell_type": "markdown",
   "id": "f314c503-1b19-4ac7-9920-4045c98c2f9a",
   "metadata": {},
   "source": [
    "## 4.1 - Redefinir dirección de Tálio\n",
    "\n",
    "Substituir entradas de mc_momentum de tálio por el evID correspondiente en eventos de neutrinos solares"
   ]
  },
  {
   "cell_type": "code",
   "execution_count": 16,
   "id": "9a23f7c9-25ff-40fe-80eb-bced49ca9e53",
   "metadata": {},
   "outputs": [],
   "source": [
    "N_breaks = len(solar_break_i)\n",
    "\n",
    "for i_dx in range(N_breaks - 1):\n",
    "    i_solar = solar_break_i[i_dx]\n",
    "    i_tl = tl_break_i[i_dx]\n",
    "    f_tl = tl_break_i[i_dx + 1]\n",
    "    \n",
    "    tl_multi_mc_momentum_cut[i_tl:f_tl] = solar_multi_mc_momentum_cut[i_solar]\n",
    "tl_multi_mc_momentum_cut[tl_break_i[-1]:-1] = solar_multi_mc_momentum_cut[-1]"
   ]
  },
  {
   "cell_type": "markdown",
   "id": "0916a714-994d-45a8-bfee-bf7090d14ad5",
   "metadata": {},
   "source": [
    "##  4.2 - Redefinir cos(α) en Tálio"
   ]
  },
  {
   "cell_type": "code",
   "execution_count": 17,
   "id": "ef3f83d4-5a68-4c43-ba54-c32f40a736ca",
   "metadata": {},
   "outputs": [],
   "source": [
    "tl_cos_fake = []\n",
    "\n",
    "for i_dx in range(N_breaks-1):\n",
    "    i_tl = tl_break_i[i_dx]\n",
    "    f_tl = tl_break_i[i_dx + 1]\n",
    "    \n",
    "    direction_ev = tl_multi_mc_momentum_cut[i_tl]\n",
    "    pmt_xyz_hit_ev = tl_multi_hit_xyz_cut[i_tl:f_tl]\n",
    "    N_hits = np.shape(pmt_xyz_hit_ev)[0]\n",
    "    \n",
    "    for hit_i in range(N_hits):\n",
    "        pmt_xyz = pmt_xyz_hit_ev[hit_i]\n",
    "        scalar_product = np.dot(pmt_xyz, direction_ev)\n",
    "        norm_1 = np.linalg.norm(pmt_xyz)\n",
    "        norm_2 = np.linalg.norm(direction_ev)\n",
    "        cos_val = scalar_product/(norm_1*norm_2)\n",
    "        tl_cos_fake.append(cos_val)\n",
    "        \n",
    "tl_cos_fake = np.array(tl_cos_fake)"
   ]
  },
  {
   "cell_type": "markdown",
   "id": "d0cdf1a9-a669-40d4-ab22-0b06ae75a5e0",
   "metadata": {},
   "source": [
    "## 4.3 - Extraer Datos para Solar $ν_e$"
   ]
  },
  {
   "cell_type": "code",
   "execution_count": 18,
   "id": "14e1d59c-2d74-4c10-bdd0-179307862b26",
   "metadata": {},
   "outputs": [
    {
     "name": "stderr",
     "output_type": "stream",
     "text": [
      "C:\\Users\\joanc\\AppData\\Local\\Temp\\ipykernel_22076\\3100496135.py:26: RuntimeWarning: invalid value encountered in divide\n",
      "  H_nu_ev_norm = H_nu_ev/sum_hit_nu_ev\n"
     ]
    }
   ],
   "source": [
    "bins = 10\n",
    "\n",
    "H_flaten_nu = []  #flatten images of solar nu evs\n",
    "labels_nu = []  #save label of solar nu evs (1)\n",
    "energy_nu = []\n",
    "radi_nu = []\n",
    "\n",
    "N_terms = len(solar_break_i)\n",
    "\n",
    "for nu_i in range(N_terms - 1):\n",
    "    init_nu = solar_break_i[nu_i]\n",
    "    final_nu = solar_break_i[nu_i + 1]\n",
    "\n",
    "    solar_time_res_ev = solar_multi_time_residual_cut[init_nu: final_nu]\n",
    "    solar_cos_ev = solar_multi_cos_angle_cut[init_nu: final_nu]\n",
    "    solar_energy_ev = solar_multi_energy_cut[init_nu]\n",
    "    solar_radi_ev = solar_multi_radi_cut[init_nu]\n",
    "\n",
    "    #COLOCAR AQUI ABAJO CORTE DE CALIDAD CASO SEA NECESARION (Nº DE REGOISTROS, ETC...)\n",
    "\n",
    "    #raw histogram\n",
    "    H_nu_ev, _, _ = np.histogram2d(x = solar_cos_ev, y =  solar_time_res_ev, bins = [bins, bins])\n",
    "\n",
    "    #normalization by NHits\n",
    "    sum_hit_nu_ev = np.sum(H_nu_ev,axis=0)\n",
    "    H_nu_ev_norm = H_nu_ev/sum_hit_nu_ev\n",
    "    H_nu_ev_norm = np.nan_to_num(H_nu_ev_norm, nan = 0.0)\n",
    "\n",
    "    H_flatten_ev = H_nu_ev_norm.ravel()\n",
    "    H_flaten_nu.append(H_flatten_ev)\n",
    "    labels_nu.append(np.ones(len(H_flatten_ev), dtype = np.int8))\n",
    "    energy_nu.append(np.ones(len(H_flatten_ev))*solar_energy_ev)\n",
    "    radi_nu.append(np.ones(len(H_flatten_ev))*solar_radi_ev)\n",
    "\n",
    "H_flaten_nu = np.array(H_flaten_nu).ravel()\n",
    "labels_nu = np.array(labels_nu).ravel()\n",
    "energy_nu = np.array(energy_nu).ravel()\n",
    "radi_nu = np.array(radi_nu).ravel()\n",
    "\n",
    "#Extraer imagenes Normalizadas y hacer flaten de los datos. "
   ]
  },
  {
   "cell_type": "markdown",
   "id": "2c34a975-3ef8-420d-81da-9b764f942787",
   "metadata": {},
   "source": [
    "## 4.4 - Extraer Datos de Background Tálio"
   ]
  },
  {
   "cell_type": "code",
   "execution_count": 19,
   "id": "1aa74cdb-0b1a-472c-8998-e829d27dc537",
   "metadata": {},
   "outputs": [
    {
     "name": "stderr",
     "output_type": "stream",
     "text": [
      "C:\\Users\\joanc\\AppData\\Local\\Temp\\ipykernel_22076\\3335357884.py:26: RuntimeWarning: invalid value encountered in divide\n",
      "  H_tl_ev_norm = H_tl_ev/sum_hit_tl_ev\n"
     ]
    }
   ],
   "source": [
    "bins = 10\n",
    "\n",
    "H_flaten_tl = []  #flatten images of solar nu evs\n",
    "labels_tl = []  #save label of solar nu evs (1)\n",
    "energy_tl = []  #save energy\n",
    "radi_tl = []\n",
    "\n",
    "N_terms = len(tl_break_i)\n",
    "\n",
    "for tl_i in range(N_terms - 1):\n",
    "    init_tl = tl_break_i[tl_i]\n",
    "    final_tl = tl_break_i[tl_i + 1]\n",
    "\n",
    "    tl_time_res_ev = tl_multi_time_residual_cut[init_tl:final_tl]\n",
    "    tl_cos_ev = tl_cos_fake[init_tl:final_tl]\n",
    "    energy_tl_ev = tl_multi_energy_cut[init_tl]\n",
    "    radi_tl_ev = tl_multi_radi_cut[init_tl]\n",
    "\n",
    "    #COLOCAR AQUI ABAJO CORTE DE CALIDAD CASO SEA NECESARION (Nº DE REGISTROS, ETC...)\n",
    "\n",
    "    #raw histogram\n",
    "    H_tl_ev, _, _ = np.histogram2d(x = tl_cos_ev, y =  tl_time_res_ev, bins = [bins, bins])\n",
    "\n",
    "    #normalization by NHits\n",
    "    sum_hit_tl_ev = np.sum(H_tl_ev,axis=0)\n",
    "    H_tl_ev_norm = H_tl_ev/sum_hit_tl_ev\n",
    "    H_tl_ev_norm = np.nan_to_num(H_tl_ev_norm, nan = 0.0)\n",
    "\n",
    "    H_flatten_tl_ev = H_tl_ev_norm.ravel()\n",
    "    H_flaten_tl.append(H_flatten_tl_ev)\n",
    "    labels_tl.append(np.zeros(len(H_flatten_tl_ev), dtype = np.int8))\n",
    "    energy_tl.append(np.ones(len(H_flatten_tl_ev))*energy_tl_ev) #construct a dimensional correct array with energy of event\n",
    "    radi_tl.append(np.ones(len(H_flatten_tl_ev))*radi_tl_ev)\n",
    "\n",
    "H_flaten_tl = np.array(H_flaten_tl).ravel()\n",
    "labels_tl = np.array(labels_tl).ravel()\n",
    "energy_tl = np.array(energy_tl).ravel()\n",
    "radi_tl = np.array(radi_tl).ravel()\n",
    "\n",
    "#Extraer imagenes Normalizadas y hacer flaten de los datos. "
   ]
  },
  {
   "cell_type": "markdown",
   "id": "64068a9a-70f2-454d-b243-3ce35533278d",
   "metadata": {},
   "source": [
    "# 5 - Organizar los Datos:\n",
    "\n",
    "Crear un PandasDataFrame que guarde los pixeles y su Label. Guardar DataFrame como archivo csv"
   ]
  },
  {
   "cell_type": "code",
   "execution_count": 20,
   "id": "e4ae6f18-1290-4d9d-b85c-324c04ff2fab",
   "metadata": {},
   "outputs": [
    {
     "data": {
      "text/plain": [
       "742100"
      ]
     },
     "execution_count": 20,
     "metadata": {},
     "output_type": "execute_result"
    }
   ],
   "source": [
    "len(H_flaten_tl)"
   ]
  },
  {
   "cell_type": "code",
   "execution_count": 21,
   "id": "384ab49e-f0a7-4285-ad33-75cd0869a911",
   "metadata": {},
   "outputs": [
    {
     "data": {
      "text/plain": [
       "742100"
      ]
     },
     "execution_count": 21,
     "metadata": {},
     "output_type": "execute_result"
    }
   ],
   "source": [
    "len(labels_tl)"
   ]
  },
  {
   "cell_type": "code",
   "execution_count": 22,
   "id": "af2425e4-e0eb-4a69-947b-181b67e827d9",
   "metadata": {},
   "outputs": [
    {
     "data": {
      "text/html": [
       "<div>\n",
       "<style scoped>\n",
       "    .dataframe tbody tr th:only-of-type {\n",
       "        vertical-align: middle;\n",
       "    }\n",
       "\n",
       "    .dataframe tbody tr th {\n",
       "        vertical-align: top;\n",
       "    }\n",
       "\n",
       "    .dataframe thead th {\n",
       "        text-align: right;\n",
       "    }\n",
       "</style>\n",
       "<table border=\"1\" class=\"dataframe\">\n",
       "  <thead>\n",
       "    <tr style=\"text-align: right;\">\n",
       "      <th></th>\n",
       "      <th>pixel value</th>\n",
       "      <th>labels</th>\n",
       "      <th>energy (MeV)</th>\n",
       "      <th>event radius (mm)</th>\n",
       "    </tr>\n",
       "  </thead>\n",
       "  <tbody>\n",
       "    <tr>\n",
       "      <th>0</th>\n",
       "      <td>0.000000</td>\n",
       "      <td>1</td>\n",
       "      <td>4.635394</td>\n",
       "      <td>3104.746582</td>\n",
       "    </tr>\n",
       "    <tr>\n",
       "      <th>1</th>\n",
       "      <td>0.000000</td>\n",
       "      <td>1</td>\n",
       "      <td>4.635394</td>\n",
       "      <td>3104.746582</td>\n",
       "    </tr>\n",
       "    <tr>\n",
       "      <th>2</th>\n",
       "      <td>0.000000</td>\n",
       "      <td>1</td>\n",
       "      <td>4.635394</td>\n",
       "      <td>3104.746582</td>\n",
       "    </tr>\n",
       "    <tr>\n",
       "      <th>3</th>\n",
       "      <td>0.000000</td>\n",
       "      <td>1</td>\n",
       "      <td>4.635394</td>\n",
       "      <td>3104.746582</td>\n",
       "    </tr>\n",
       "    <tr>\n",
       "      <th>4</th>\n",
       "      <td>0.000000</td>\n",
       "      <td>1</td>\n",
       "      <td>4.635394</td>\n",
       "      <td>3104.746582</td>\n",
       "    </tr>\n",
       "    <tr>\n",
       "      <th>...</th>\n",
       "      <td>...</td>\n",
       "      <td>...</td>\n",
       "      <td>...</td>\n",
       "      <td>...</td>\n",
       "    </tr>\n",
       "    <tr>\n",
       "      <th>1484195</th>\n",
       "      <td>0.034483</td>\n",
       "      <td>0</td>\n",
       "      <td>4.520438</td>\n",
       "      <td>5479.795410</td>\n",
       "    </tr>\n",
       "    <tr>\n",
       "      <th>1484196</th>\n",
       "      <td>0.027778</td>\n",
       "      <td>0</td>\n",
       "      <td>4.520438</td>\n",
       "      <td>5479.795410</td>\n",
       "    </tr>\n",
       "    <tr>\n",
       "      <th>1484197</th>\n",
       "      <td>0.061224</td>\n",
       "      <td>0</td>\n",
       "      <td>4.520438</td>\n",
       "      <td>5479.795410</td>\n",
       "    </tr>\n",
       "    <tr>\n",
       "      <th>1484198</th>\n",
       "      <td>0.040816</td>\n",
       "      <td>0</td>\n",
       "      <td>4.520438</td>\n",
       "      <td>5479.795410</td>\n",
       "    </tr>\n",
       "    <tr>\n",
       "      <th>1484199</th>\n",
       "      <td>0.000000</td>\n",
       "      <td>0</td>\n",
       "      <td>4.520438</td>\n",
       "      <td>5479.795410</td>\n",
       "    </tr>\n",
       "  </tbody>\n",
       "</table>\n",
       "<p>1484200 rows × 4 columns</p>\n",
       "</div>"
      ],
      "text/plain": [
       "         pixel value  labels  energy (MeV)  event radius (mm)\n",
       "0           0.000000       1      4.635394        3104.746582\n",
       "1           0.000000       1      4.635394        3104.746582\n",
       "2           0.000000       1      4.635394        3104.746582\n",
       "3           0.000000       1      4.635394        3104.746582\n",
       "4           0.000000       1      4.635394        3104.746582\n",
       "...              ...     ...           ...                ...\n",
       "1484195     0.034483       0      4.520438        5479.795410\n",
       "1484196     0.027778       0      4.520438        5479.795410\n",
       "1484197     0.061224       0      4.520438        5479.795410\n",
       "1484198     0.040816       0      4.520438        5479.795410\n",
       "1484199     0.000000       0      4.520438        5479.795410\n",
       "\n",
       "[1484200 rows x 4 columns]"
      ]
     },
     "execution_count": 22,
     "metadata": {},
     "output_type": "execute_result"
    }
   ],
   "source": [
    "all_pixels = np.concatenate((H_flaten_nu, H_flaten_tl))\n",
    "all_labels = np.concatenate((labels_nu, labels_tl))\n",
    "all_energy = np.concatenate((energy_nu, energy_tl))\n",
    "all_radi = np.concatenate((radi_nu, radi_tl))\n",
    "\n",
    "data = {'pixel value': all_pixels,\n",
    "       'labels': all_labels,\n",
    "        'energy (MeV)': all_energy,\n",
    "        'event radius (mm)': all_radi,\n",
    "        }\n",
    "\n",
    "df = pd.DataFrame(data)\n",
    "df"
   ]
  },
  {
   "cell_type": "code",
   "execution_count": 24,
   "id": "b9f26447-c121-4556-86a1-18e9fac1abf2",
   "metadata": {},
   "outputs": [],
   "source": [
    "df.to_csv(\"Data/High Stat/df_5500_10_(-5_7)_(4_6).csv\")"
   ]
  },
  {
   "cell_type": "markdown",
   "id": "82db98d3-78cd-49d2-9e0d-3c171348391d",
   "metadata": {},
   "source": [
    "# 6 - Observar y Representar Datos"
   ]
  },
  {
   "cell_type": "code",
   "execution_count": 25,
   "id": "d26cf91d-30c9-445e-b631-eebb36cc4623",
   "metadata": {},
   "outputs": [],
   "source": [
    "df_read = pd.read_csv(\"Data/High Stat/df_5500_10_(-5_7)_(4_6).csv\").drop(columns = ['Unnamed: 0'])"
   ]
  },
  {
   "cell_type": "code",
   "execution_count": 26,
   "id": "269ea8b4-7f51-4ac5-979e-10d0d471d96d",
   "metadata": {},
   "outputs": [
    {
     "data": {
      "text/html": [
       "<div>\n",
       "<style scoped>\n",
       "    .dataframe tbody tr th:only-of-type {\n",
       "        vertical-align: middle;\n",
       "    }\n",
       "\n",
       "    .dataframe tbody tr th {\n",
       "        vertical-align: top;\n",
       "    }\n",
       "\n",
       "    .dataframe thead th {\n",
       "        text-align: right;\n",
       "    }\n",
       "</style>\n",
       "<table border=\"1\" class=\"dataframe\">\n",
       "  <thead>\n",
       "    <tr style=\"text-align: right;\">\n",
       "      <th></th>\n",
       "      <th>pixel value</th>\n",
       "      <th>labels</th>\n",
       "      <th>energy (MeV)</th>\n",
       "      <th>event radius (mm)</th>\n",
       "    </tr>\n",
       "  </thead>\n",
       "  <tbody>\n",
       "    <tr>\n",
       "      <th>0</th>\n",
       "      <td>0.000000</td>\n",
       "      <td>1</td>\n",
       "      <td>4.635394</td>\n",
       "      <td>3104.746582</td>\n",
       "    </tr>\n",
       "    <tr>\n",
       "      <th>1</th>\n",
       "      <td>0.000000</td>\n",
       "      <td>1</td>\n",
       "      <td>4.635394</td>\n",
       "      <td>3104.746582</td>\n",
       "    </tr>\n",
       "    <tr>\n",
       "      <th>2</th>\n",
       "      <td>0.000000</td>\n",
       "      <td>1</td>\n",
       "      <td>4.635394</td>\n",
       "      <td>3104.746582</td>\n",
       "    </tr>\n",
       "    <tr>\n",
       "      <th>3</th>\n",
       "      <td>0.000000</td>\n",
       "      <td>1</td>\n",
       "      <td>4.635394</td>\n",
       "      <td>3104.746582</td>\n",
       "    </tr>\n",
       "    <tr>\n",
       "      <th>4</th>\n",
       "      <td>0.000000</td>\n",
       "      <td>1</td>\n",
       "      <td>4.635394</td>\n",
       "      <td>3104.746582</td>\n",
       "    </tr>\n",
       "    <tr>\n",
       "      <th>...</th>\n",
       "      <td>...</td>\n",
       "      <td>...</td>\n",
       "      <td>...</td>\n",
       "      <td>...</td>\n",
       "    </tr>\n",
       "    <tr>\n",
       "      <th>1484195</th>\n",
       "      <td>0.034483</td>\n",
       "      <td>0</td>\n",
       "      <td>4.520438</td>\n",
       "      <td>5479.795410</td>\n",
       "    </tr>\n",
       "    <tr>\n",
       "      <th>1484196</th>\n",
       "      <td>0.027778</td>\n",
       "      <td>0</td>\n",
       "      <td>4.520438</td>\n",
       "      <td>5479.795410</td>\n",
       "    </tr>\n",
       "    <tr>\n",
       "      <th>1484197</th>\n",
       "      <td>0.061224</td>\n",
       "      <td>0</td>\n",
       "      <td>4.520438</td>\n",
       "      <td>5479.795410</td>\n",
       "    </tr>\n",
       "    <tr>\n",
       "      <th>1484198</th>\n",
       "      <td>0.040816</td>\n",
       "      <td>0</td>\n",
       "      <td>4.520438</td>\n",
       "      <td>5479.795410</td>\n",
       "    </tr>\n",
       "    <tr>\n",
       "      <th>1484199</th>\n",
       "      <td>0.000000</td>\n",
       "      <td>0</td>\n",
       "      <td>4.520438</td>\n",
       "      <td>5479.795410</td>\n",
       "    </tr>\n",
       "  </tbody>\n",
       "</table>\n",
       "<p>1484200 rows × 4 columns</p>\n",
       "</div>"
      ],
      "text/plain": [
       "         pixel value  labels  energy (MeV)  event radius (mm)\n",
       "0           0.000000       1      4.635394        3104.746582\n",
       "1           0.000000       1      4.635394        3104.746582\n",
       "2           0.000000       1      4.635394        3104.746582\n",
       "3           0.000000       1      4.635394        3104.746582\n",
       "4           0.000000       1      4.635394        3104.746582\n",
       "...              ...     ...           ...                ...\n",
       "1484195     0.034483       0      4.520438        5479.795410\n",
       "1484196     0.027778       0      4.520438        5479.795410\n",
       "1484197     0.061224       0      4.520438        5479.795410\n",
       "1484198     0.040816       0      4.520438        5479.795410\n",
       "1484199     0.000000       0      4.520438        5479.795410\n",
       "\n",
       "[1484200 rows x 4 columns]"
      ]
     },
     "execution_count": 26,
     "metadata": {},
     "output_type": "execute_result"
    }
   ],
   "source": [
    "df_read"
   ]
  },
  {
   "cell_type": "code",
   "execution_count": 27,
   "id": "97c3cb82-c808-47f7-97d8-98c7366574fe",
   "metadata": {},
   "outputs": [
    {
     "data": {
      "text/html": [
       "<div>\n",
       "<style scoped>\n",
       "    .dataframe tbody tr th:only-of-type {\n",
       "        vertical-align: middle;\n",
       "    }\n",
       "\n",
       "    .dataframe tbody tr th {\n",
       "        vertical-align: top;\n",
       "    }\n",
       "\n",
       "    .dataframe thead th {\n",
       "        text-align: right;\n",
       "    }\n",
       "</style>\n",
       "<table border=\"1\" class=\"dataframe\">\n",
       "  <thead>\n",
       "    <tr style=\"text-align: right;\">\n",
       "      <th></th>\n",
       "      <th>pixel value</th>\n",
       "      <th>labels</th>\n",
       "      <th>energy (MeV)</th>\n",
       "      <th>event radius (mm)</th>\n",
       "    </tr>\n",
       "  </thead>\n",
       "  <tbody>\n",
       "    <tr>\n",
       "      <th>count</th>\n",
       "      <td>1.484200e+06</td>\n",
       "      <td>1484200.0</td>\n",
       "      <td>1.484200e+06</td>\n",
       "      <td>1.484200e+06</td>\n",
       "    </tr>\n",
       "    <tr>\n",
       "      <th>mean</th>\n",
       "      <td>9.824619e-02</td>\n",
       "      <td>0.5</td>\n",
       "      <td>4.583622e+00</td>\n",
       "      <td>4.062152e+03</td>\n",
       "    </tr>\n",
       "    <tr>\n",
       "      <th>std</th>\n",
       "      <td>1.368350e-01</td>\n",
       "      <td>0.5</td>\n",
       "      <td>5.575413e-01</td>\n",
       "      <td>1.076752e+03</td>\n",
       "    </tr>\n",
       "    <tr>\n",
       "      <th>min</th>\n",
       "      <td>0.000000e+00</td>\n",
       "      <td>0.0</td>\n",
       "      <td>4.000037e+00</td>\n",
       "      <td>2.005613e+02</td>\n",
       "    </tr>\n",
       "    <tr>\n",
       "      <th>25%</th>\n",
       "      <td>0.000000e+00</td>\n",
       "      <td>0.0</td>\n",
       "      <td>4.149019e+00</td>\n",
       "      <td>3.374225e+03</td>\n",
       "    </tr>\n",
       "    <tr>\n",
       "      <th>50%</th>\n",
       "      <td>5.882353e-02</td>\n",
       "      <td>0.5</td>\n",
       "      <td>4.359409e+00</td>\n",
       "      <td>4.286691e+03</td>\n",
       "    </tr>\n",
       "    <tr>\n",
       "      <th>75%</th>\n",
       "      <td>1.428571e-01</td>\n",
       "      <td>1.0</td>\n",
       "      <td>4.920938e+00</td>\n",
       "      <td>4.940511e+03</td>\n",
       "    </tr>\n",
       "    <tr>\n",
       "      <th>max</th>\n",
       "      <td>1.000000e+00</td>\n",
       "      <td>1.0</td>\n",
       "      <td>5.999003e+00</td>\n",
       "      <td>5.499915e+03</td>\n",
       "    </tr>\n",
       "  </tbody>\n",
       "</table>\n",
       "</div>"
      ],
      "text/plain": [
       "        pixel value     labels  energy (MeV)  event radius (mm)\n",
       "count  1.484200e+06  1484200.0  1.484200e+06       1.484200e+06\n",
       "mean   9.824619e-02        0.5  4.583622e+00       4.062152e+03\n",
       "std    1.368350e-01        0.5  5.575413e-01       1.076752e+03\n",
       "min    0.000000e+00        0.0  4.000037e+00       2.005613e+02\n",
       "25%    0.000000e+00        0.0  4.149019e+00       3.374225e+03\n",
       "50%    5.882353e-02        0.5  4.359409e+00       4.286691e+03\n",
       "75%    1.428571e-01        1.0  4.920938e+00       4.940511e+03\n",
       "max    1.000000e+00        1.0  5.999003e+00       5.499915e+03"
      ]
     },
     "execution_count": 27,
     "metadata": {},
     "output_type": "execute_result"
    }
   ],
   "source": [
    "df_read.describe()"
   ]
  },
  {
   "cell_type": "code",
   "execution_count": 29,
   "id": "7b352231-06d0-4b8d-bad6-c8b523578201",
   "metadata": {},
   "outputs": [
    {
     "data": {
      "image/png": "[encoded data removed]",
      "text/plain": [
       "<Figure size 1800x1200 with 4 Axes>"
      ]
     },
     "metadata": {},
     "output_type": "display_data"
    }
   ],
   "source": [
    "fig, axes = plt.subplots(2, 2,  figsize=(18, 12))\n",
    "\n",
    "sn.histplot(data = df_read['pixel value'] , bins = 25, log = True, ax=axes[0,0])\n",
    "sn.histplot(data = df_read['energy (MeV)'] , binwidth = 0.08, log = True ,ax=axes[1,0])\n",
    "sn.histplot(data = df_read['labels'], ax=axes[0,1])\n",
    "sn.histplot(data = df_read['event radius (mm)'], binwidth = 100 ,ax=axes[1,1])\n",
    "#plt.savefig('figs/High Stat/data_set_representation.png', format = 'png')"
   ]
  },
  {
   "cell_type": "markdown",
   "id": "da4f1a36-ae79-4189-bc48-8489c90e03b1",
   "metadata": {},
   "source": [
    "## 6.1 - Separar Signal vs. Background"
   ]
  },
  {
   "cell_type": "code",
   "execution_count": 30,
   "id": "8884630a-1919-4912-9b9c-e35140e19b64",
   "metadata": {},
   "outputs": [
    {
     "data": {
      "image/png": "[encoded data removed]",
      "text/plain": [
       "<Figure size 640x480 with 1 Axes>"
      ]
     },
     "metadata": {},
     "output_type": "display_data"
    }
   ],
   "source": [
    "#Separate data set by labels\n",
    "solar_signal = df_read[df_read['labels'] == 1]\n",
    "tl_bkg = df_read[df_read['labels'] == 0]\n",
    "\n",
    "#plot\n",
    "bins = 25\n",
    "sn.histplot(data = solar_signal['pixel value'], bins = bins, log = True, alpha = 0.5, color = 'r', label = '$ν_e$ Signal (1)')\n",
    "sn.histplot(data = tl_bkg['pixel value'], bins = bins, log = True, alpha = 0.4, color = 'b', label = 'Tl Background (0)')\n",
    "plt.legend()\n",
    "\n",
    "#plt.savefig('figs/High Stat/pixel_values_compare.png', format = 'png')"
   ]
  },
  {
   "cell_type": "markdown",
   "id": "e4839d7c-5012-4db1-ba72-8ee249c3ccc9",
   "metadata": {},
   "source": [
    "# 6.2 - Correlation Matrix"
   ]
  },
  {
   "cell_type": "code",
   "execution_count": 31,
   "id": "75b040d4-9ef0-4764-98af-dcdc23486c88",
   "metadata": {},
   "outputs": [
    {
     "data": {
      "image/png": "[encoded data removed]",
      "text/plain": [
       "<Figure size 1200x1000 with 2 Axes>"
      ]
     },
     "metadata": {},
     "output_type": "display_data"
    }
   ],
   "source": [
    "plt.figure(figsize=(12,10))\n",
    "sn.heatmap(df_read.corr(), vmin = -1, vmax = 1, cmap='winter', annot = True, linewidths= 0.1)\n",
    "plt.title('Correlation Matrix', fontsize = '12')\n",
    "#plt.savefig('figs/High Stat/correlation_matrix.png', format = 'png')\n",
    "\n",
    "#Styles: PuBu, winter"
   ]
  },
  {
   "cell_type": "markdown",
   "id": "fa80c789-ee5e-4498-9a46-c36e7dc472d8",
   "metadata": {},
   "source": [
    "# 7 - Preprocesar Datos\n",
    "\n",
    "- Reescalar energia y valores de radio de evento usando normalizer,\n",
    "- Tratar outliers (datos atipicos) de valores de pixeles usando RobustScaler,"
   ]
  },
  {
   "cell_type": "code",
   "execution_count": 32,
   "id": "ebf5fc8d-aa84-45c5-b187-fc4a530bb5a8",
   "metadata": {},
   "outputs": [],
   "source": [
    "df_pixel =df_read['pixel value'].to_numpy()\n",
    "df_rad = df_read['event radius (mm)'].to_numpy()\n",
    "df_energy = df_read['energy (MeV)'].to_numpy()\n",
    "\n",
    "norm_rad = normalize([df_rad], norm = 'max')[0]\n",
    "norm_energy = normalize([df_energy], norm = 'max')[0]\n",
    "\n",
    "#Algo no corre bien con el RobustScaler  -> CLARO! RobustScaler elimina outliers, y la mayoria de pixeles son 0, y considera pixel=1 como outliers ...\n",
    "#transformer = RobustScaler().fit([df_pixel])\n",
    "#pixel = transformer.transform([df_pixel])"
   ]
  },
  {
   "cell_type": "code",
   "execution_count": 33,
   "id": "a0245cb7-e372-4800-9ebf-f254109f637b",
   "metadata": {},
   "outputs": [
    {
     "data": {
      "image/png": "[encoded data removed]",
      "text/plain": [
       "<Figure size 1500x500 with 2 Axes>"
      ]
     },
     "metadata": {},
     "output_type": "display_data"
    }
   ],
   "source": [
    "fig, axes = plt.subplots(1, 2,  figsize=(15, 5))\n",
    "\n",
    "sn.histplot(data = norm_rad, ax=axes[0], bins = 50)\n",
    "sn.histplot(data = norm_energy, bins = 25, log = True, ax=axes[1])\n",
    "axes[0].set_title('Normalized Radius', fontsize = 12)\n",
    "axes[1].set_title('Normalized Energy', fontsize = 12)\n",
    "#plt.savefig('figs/High Stat/norm_rad_ener.png', format = 'png')"
   ]
  },
  {
   "cell_type": "code",
   "execution_count": null,
   "id": "bed4ef51-f0e4-4399-bee8-c95f15a75639",
   "metadata": {},
   "outputs": [],
   "source": []
  },
  {
   "cell_type": "code",
   "execution_count": null,
   "id": "3c764de7-fc91-4412-8079-7a6b685d9223",
   "metadata": {},
   "outputs": [],
   "source": []
  }
 ],
 "metadata": {
  "kernelspec": {
   "display_name": "Python 3 (ipykernel)",
   "language": "python",
   "name": "python3"
  },
  "language_info": {
   "codemirror_mode": {
    "name": "ipython",
    "version": 3
   },
   "file_extension": ".py",
   "mimetype": "text/x-python",
   "name": "python",
   "nbconvert_exporter": "python",
   "pygments_lexer": "ipython3",
   "version": "3.12.2"
  }
 },
 "nbformat": 4,
 "nbformat_minor": 5
}
